{
 "cells": [
  {
   "cell_type": "code",
   "execution_count": 1,
   "metadata": {},
   "outputs": [],
   "source": [
    "import cv2\n",
    "import sys\n",
    "import mediapipe as mp\n",
    "from datetime import datetime, time, timedelta\n",
    "import numpy as np\n",
    "import traces\n",
    "\n",
    "from scipy import signal\n",
    "from sklearn.decomposition import FastICA, PCA\n",
    "\n",
    "from pyqtgraph.Qt import QtGui, QtCore\n",
    "import numpy as np\n",
    "import pyqtgraph as pg\n",
    "\n",
    "from utils.face_mask import get_face_contour\n",
    "from utils.fixed_list import FixedList"
   ]
  }
 ],
 "metadata": {
  "interpreter": {
   "hash": "30fbd15f47e302ae06278e752451c5ade20c20f80f14824548b5637f21b9f6af"
  },
  "kernelspec": {
   "display_name": "Python 3.10.1 64-bit",
   "language": "python",
   "name": "python3"
  },
  "language_info": {
   "codemirror_mode": {
    "name": "ipython",
    "version": 3
   },
   "file_extension": ".py",
   "mimetype": "text/x-python",
   "name": "python",
   "nbconvert_exporter": "python",
   "pygments_lexer": "ipython3",
   "version": "3.10.1"
  },
  "orig_nbformat": 4
 },
 "nbformat": 4,
 "nbformat_minor": 2
}
